{
 "cells": [
  {
   "cell_type": "code",
   "execution_count": 1,
   "metadata": {},
   "outputs": [],
   "source": [
    "# Import necessary libraries\n",
    "\n",
    "import numpy as np\n",
    "import pandas as pd\n",
    "import statsmodels.api as sm\n",
    "import statsmodels.formula.api as smf\n",
    "import networkx as nx\n",
    "import matplotlib.pyplot as plt"
   ]
  },
  {
   "cell_type": "code",
   "execution_count": 15,
   "metadata": {},
   "outputs": [],
   "source": [
    "import warnings\n",
    "warnings.filterwarnings(\"ignore\")"
   ]
  },
  {
   "cell_type": "markdown",
   "metadata": {},
   "source": [
    "## Loading the data"
   ]
  },
  {
   "cell_type": "code",
   "execution_count": 2,
   "metadata": {},
   "outputs": [
    {
     "data": {
      "text/html": [
       "<div>\n",
       "<style scoped>\n",
       "    .dataframe tbody tr th:only-of-type {\n",
       "        vertical-align: middle;\n",
       "    }\n",
       "\n",
       "    .dataframe tbody tr th {\n",
       "        vertical-align: top;\n",
       "    }\n",
       "\n",
       "    .dataframe thead th {\n",
       "        text-align: right;\n",
       "    }\n",
       "</style>\n",
       "<table border=\"1\" class=\"dataframe\">\n",
       "  <thead>\n",
       "    <tr style=\"text-align: right;\">\n",
       "      <th></th>\n",
       "      <th>dpisofirme</th>\n",
       "      <th>idcluster</th>\n",
       "      <th>coord_x</th>\n",
       "      <th>coord_y</th>\n",
       "      <th>idmun</th>\n",
       "      <th>idmza</th>\n",
       "      <th>C_blocksdirtfloor</th>\n",
       "      <th>C_HHdirtfloor</th>\n",
       "      <th>C_child05</th>\n",
       "      <th>C_households</th>\n",
       "      <th>...</th>\n",
       "      <th>S_cesds</th>\n",
       "      <th>S_pss</th>\n",
       "      <th>S_instcement</th>\n",
       "      <th>S_instsanita</th>\n",
       "      <th>S_restsanita</th>\n",
       "      <th>S_constceili</th>\n",
       "      <th>S_restowalls</th>\n",
       "      <th>S_improveany</th>\n",
       "      <th>S_logrent</th>\n",
       "      <th>S_logsell</th>\n",
       "    </tr>\n",
       "  </thead>\n",
       "  <tbody>\n",
       "    <tr>\n",
       "      <th>0</th>\n",
       "      <td>0.0</td>\n",
       "      <td>70000537.0</td>\n",
       "      <td>-103.50367</td>\n",
       "      <td>25.583067</td>\n",
       "      <td>7.0</td>\n",
       "      <td>40</td>\n",
       "      <td>0.3</td>\n",
       "      <td>0.036629</td>\n",
       "      <td>0.555554</td>\n",
       "      <td>819.0</td>\n",
       "      <td>...</td>\n",
       "      <td>14.0</td>\n",
       "      <td>12.0</td>\n",
       "      <td>0.0</td>\n",
       "      <td>0.0</td>\n",
       "      <td>0.0</td>\n",
       "      <td>0.0</td>\n",
       "      <td>0.0</td>\n",
       "      <td>0.0</td>\n",
       "      <td>5.298317</td>\n",
       "      <td>9.903487</td>\n",
       "    </tr>\n",
       "    <tr>\n",
       "      <th>1</th>\n",
       "      <td>0.0</td>\n",
       "      <td>70000537.0</td>\n",
       "      <td>-103.50367</td>\n",
       "      <td>25.583067</td>\n",
       "      <td>7.0</td>\n",
       "      <td>40</td>\n",
       "      <td>0.3</td>\n",
       "      <td>0.036629</td>\n",
       "      <td>0.555554</td>\n",
       "      <td>819.0</td>\n",
       "      <td>...</td>\n",
       "      <td>17.0</td>\n",
       "      <td>24.0</td>\n",
       "      <td>0.0</td>\n",
       "      <td>0.0</td>\n",
       "      <td>0.0</td>\n",
       "      <td>0.0</td>\n",
       "      <td>0.0</td>\n",
       "      <td>0.0</td>\n",
       "      <td>5.298317</td>\n",
       "      <td>9.615806</td>\n",
       "    </tr>\n",
       "    <tr>\n",
       "      <th>2</th>\n",
       "      <td>0.0</td>\n",
       "      <td>70000537.0</td>\n",
       "      <td>-103.50367</td>\n",
       "      <td>25.583067</td>\n",
       "      <td>7.0</td>\n",
       "      <td>40</td>\n",
       "      <td>0.3</td>\n",
       "      <td>0.036629</td>\n",
       "      <td>0.555554</td>\n",
       "      <td>819.0</td>\n",
       "      <td>...</td>\n",
       "      <td>16.0</td>\n",
       "      <td>16.0</td>\n",
       "      <td>0.0</td>\n",
       "      <td>0.0</td>\n",
       "      <td>0.0</td>\n",
       "      <td>0.0</td>\n",
       "      <td>0.0</td>\n",
       "      <td>0.0</td>\n",
       "      <td>6.214608</td>\n",
       "      <td>10.819778</td>\n",
       "    </tr>\n",
       "    <tr>\n",
       "      <th>3</th>\n",
       "      <td>0.0</td>\n",
       "      <td>70000537.0</td>\n",
       "      <td>-103.50367</td>\n",
       "      <td>25.583067</td>\n",
       "      <td>7.0</td>\n",
       "      <td>47</td>\n",
       "      <td>0.3</td>\n",
       "      <td>0.036629</td>\n",
       "      <td>0.555554</td>\n",
       "      <td>819.0</td>\n",
       "      <td>...</td>\n",
       "      <td>20.0</td>\n",
       "      <td>19.0</td>\n",
       "      <td>0.0</td>\n",
       "      <td>0.0</td>\n",
       "      <td>0.0</td>\n",
       "      <td>0.0</td>\n",
       "      <td>0.0</td>\n",
       "      <td>0.0</td>\n",
       "      <td>11.385092</td>\n",
       "      <td>11.918390</td>\n",
       "    </tr>\n",
       "    <tr>\n",
       "      <th>4</th>\n",
       "      <td>0.0</td>\n",
       "      <td>70000537.0</td>\n",
       "      <td>-103.50367</td>\n",
       "      <td>25.583067</td>\n",
       "      <td>7.0</td>\n",
       "      <td>47</td>\n",
       "      <td>0.3</td>\n",
       "      <td>0.036629</td>\n",
       "      <td>0.555554</td>\n",
       "      <td>819.0</td>\n",
       "      <td>...</td>\n",
       "      <td>4.0</td>\n",
       "      <td>5.0</td>\n",
       "      <td>0.0</td>\n",
       "      <td>0.0</td>\n",
       "      <td>0.0</td>\n",
       "      <td>0.0</td>\n",
       "      <td>0.0</td>\n",
       "      <td>0.0</td>\n",
       "      <td>5.703783</td>\n",
       "      <td>10.819778</td>\n",
       "    </tr>\n",
       "  </tbody>\n",
       "</table>\n",
       "<p>5 rows × 78 columns</p>\n",
       "</div>"
      ],
      "text/plain": [
       "   dpisofirme   idcluster    coord_x    coord_y  idmun  idmza  \\\n",
       "0         0.0  70000537.0 -103.50367  25.583067    7.0     40   \n",
       "1         0.0  70000537.0 -103.50367  25.583067    7.0     40   \n",
       "2         0.0  70000537.0 -103.50367  25.583067    7.0     40   \n",
       "3         0.0  70000537.0 -103.50367  25.583067    7.0     47   \n",
       "4         0.0  70000537.0 -103.50367  25.583067    7.0     47   \n",
       "\n",
       "   C_blocksdirtfloor  C_HHdirtfloor  C_child05  C_households  ...  S_cesds  \\\n",
       "0                0.3       0.036629   0.555554         819.0  ...     14.0   \n",
       "1                0.3       0.036629   0.555554         819.0  ...     17.0   \n",
       "2                0.3       0.036629   0.555554         819.0  ...     16.0   \n",
       "3                0.3       0.036629   0.555554         819.0  ...     20.0   \n",
       "4                0.3       0.036629   0.555554         819.0  ...      4.0   \n",
       "\n",
       "   S_pss  S_instcement  S_instsanita  S_restsanita  S_constceili  \\\n",
       "0   12.0           0.0           0.0           0.0           0.0   \n",
       "1   24.0           0.0           0.0           0.0           0.0   \n",
       "2   16.0           0.0           0.0           0.0           0.0   \n",
       "3   19.0           0.0           0.0           0.0           0.0   \n",
       "4    5.0           0.0           0.0           0.0           0.0   \n",
       "\n",
       "   S_restowalls  S_improveany  S_logrent  S_logsell  \n",
       "0           0.0           0.0   5.298317   9.903487  \n",
       "1           0.0           0.0   5.298317   9.615806  \n",
       "2           0.0           0.0   6.214608  10.819778  \n",
       "3           0.0           0.0  11.385092  11.918390  \n",
       "4           0.0           0.0   5.703783  10.819778  \n",
       "\n",
       "[5 rows x 78 columns]"
      ]
     },
     "execution_count": 2,
     "metadata": {},
     "output_type": "execute_result"
    }
   ],
   "source": [
    "# Load the data\n",
    "\n",
    "df = pd.read_stata('data/PisoFirme_AEJPol-20070024_household.dta')\n",
    "df.head()"
   ]
  },
  {
   "cell_type": "code",
   "execution_count": 3,
   "metadata": {},
   "outputs": [],
   "source": [
    "# Define the group durango (the control group of the original paper)\n",
    "durango = df[df.dpisofirme == 0]"
   ]
  },
  {
   "cell_type": "markdown",
   "metadata": {},
   "source": [
    "Now we will define the control and treatment group for our experiment. We consider only households which were not proposed Piso Firme (durango). The new treatment group will be households which installed cement floors (S_instcement = 1) by themselve, the new control group will be people who did not install cement floors (S_instcement = 0)."
   ]
  },
  {
   "cell_type": "code",
   "execution_count": 4,
   "metadata": {},
   "outputs": [
    {
     "data": {
      "text/plain": [
       "<AxesSubplot:>"
      ]
     },
     "execution_count": 4,
     "metadata": {},
     "output_type": "execute_result"
    },
    {
     "data": {
      "image/png": "[encoded data removed]",
      "text/plain": [
       "<Figure size 432x288 with 1 Axes>"
      ]
     },
     "metadata": {
      "needs_background": "light"
     },
     "output_type": "display_data"
    }
   ],
   "source": [
    "# Plot\n",
    "durango.S_instcement.hist()"
   ]
  },
  {
   "cell_type": "markdown",
   "metadata": {},
   "source": [
    "We can see that the two groups are balanced."
   ]
  },
  {
   "cell_type": "markdown",
   "metadata": {},
   "source": [
    "## Matching\n",
    "\n",
    "### Propensity scores computation"
   ]
  },
  {
   "cell_type": "code",
   "execution_count": 5,
   "metadata": {},
   "outputs": [],
   "source": [
    "# Standardize continuous features\n",
    "\n",
    "# Define variables for propensity scores (economic variables that could influence installation of cement)\n",
    "\n",
    "propensity_variables = ['S_incomepc','S_assetspc','S_shpeoplework','S_hrsworkedpc',\n",
    "                        'S_consumptionpc','S_cashtransfers']"
   ]
  },
  {
   "cell_type": "code",
   "execution_count": 6,
   "metadata": {},
   "outputs": [
    {
     "data": {
      "text/html": [
       "<div>\n",
       "<style scoped>\n",
       "    .dataframe tbody tr th:only-of-type {\n",
       "        vertical-align: middle;\n",
       "    }\n",
       "\n",
       "    .dataframe tbody tr th {\n",
       "        vertical-align: top;\n",
       "    }\n",
       "\n",
       "    .dataframe thead th {\n",
       "        text-align: right;\n",
       "    }\n",
       "</style>\n",
       "<table border=\"1\" class=\"dataframe\">\n",
       "  <thead>\n",
       "    <tr style=\"text-align: right;\">\n",
       "      <th></th>\n",
       "      <th>S_incomepc</th>\n",
       "      <th>S_assetspc</th>\n",
       "      <th>S_shpeoplework</th>\n",
       "      <th>S_hrsworkedpc</th>\n",
       "      <th>S_consumptionpc</th>\n",
       "      <th>S_cashtransfers</th>\n",
       "    </tr>\n",
       "  </thead>\n",
       "  <tbody>\n",
       "    <tr>\n",
       "      <th>0</th>\n",
       "      <td>1108.333374</td>\n",
       "      <td>35087.679688</td>\n",
       "      <td>0.333333</td>\n",
       "      <td>16.666666</td>\n",
       "      <td>704.000000</td>\n",
       "      <td>0.0</td>\n",
       "    </tr>\n",
       "    <tr>\n",
       "      <th>1</th>\n",
       "      <td>1000.000000</td>\n",
       "      <td>53054.988281</td>\n",
       "      <td>0.500000</td>\n",
       "      <td>24.000000</td>\n",
       "      <td>934.250000</td>\n",
       "      <td>0.0</td>\n",
       "    </tr>\n",
       "    <tr>\n",
       "      <th>2</th>\n",
       "      <td>1100.000000</td>\n",
       "      <td>52930.226562</td>\n",
       "      <td>0.500000</td>\n",
       "      <td>15.000000</td>\n",
       "      <td>934.140015</td>\n",
       "      <td>0.0</td>\n",
       "    </tr>\n",
       "    <tr>\n",
       "      <th>3</th>\n",
       "      <td>660.416687</td>\n",
       "      <td>30632.578125</td>\n",
       "      <td>0.250000</td>\n",
       "      <td>12.000000</td>\n",
       "      <td>324.750000</td>\n",
       "      <td>0.0</td>\n",
       "    </tr>\n",
       "    <tr>\n",
       "      <th>4</th>\n",
       "      <td>0.000000</td>\n",
       "      <td>21158.214844</td>\n",
       "      <td>0.000000</td>\n",
       "      <td>0.000000</td>\n",
       "      <td>259.799988</td>\n",
       "      <td>0.0</td>\n",
       "    </tr>\n",
       "    <tr>\n",
       "      <th>...</th>\n",
       "      <td>...</td>\n",
       "      <td>...</td>\n",
       "      <td>...</td>\n",
       "      <td>...</td>\n",
       "      <td>...</td>\n",
       "      <td>...</td>\n",
       "    </tr>\n",
       "    <tr>\n",
       "      <th>1388</th>\n",
       "      <td>400.000000</td>\n",
       "      <td>20729.542969</td>\n",
       "      <td>0.200000</td>\n",
       "      <td>9.600000</td>\n",
       "      <td>643.099976</td>\n",
       "      <td>0.0</td>\n",
       "    </tr>\n",
       "    <tr>\n",
       "      <th>1389</th>\n",
       "      <td>949.714294</td>\n",
       "      <td>15572.803711</td>\n",
       "      <td>0.285714</td>\n",
       "      <td>18.714285</td>\n",
       "      <td>494.519989</td>\n",
       "      <td>0.0</td>\n",
       "    </tr>\n",
       "    <tr>\n",
       "      <th>1390</th>\n",
       "      <td>608.000000</td>\n",
       "      <td>20948.089844</td>\n",
       "      <td>0.200000</td>\n",
       "      <td>2.000000</td>\n",
       "      <td>539.599976</td>\n",
       "      <td>64.0</td>\n",
       "    </tr>\n",
       "    <tr>\n",
       "      <th>1391</th>\n",
       "      <td>821.777771</td>\n",
       "      <td>35472.132812</td>\n",
       "      <td>0.333333</td>\n",
       "      <td>12.000000</td>\n",
       "      <td>770.433350</td>\n",
       "      <td>0.0</td>\n",
       "    </tr>\n",
       "    <tr>\n",
       "      <th>1392</th>\n",
       "      <td>1104.166626</td>\n",
       "      <td>25981.351562</td>\n",
       "      <td>0.250000</td>\n",
       "      <td>22.000000</td>\n",
       "      <td>666.250000</td>\n",
       "      <td>0.0</td>\n",
       "    </tr>\n",
       "  </tbody>\n",
       "</table>\n",
       "<p>1388 rows × 6 columns</p>\n",
       "</div>"
      ],
      "text/plain": [
       "       S_incomepc    S_assetspc  S_shpeoplework  S_hrsworkedpc  \\\n",
       "0     1108.333374  35087.679688        0.333333      16.666666   \n",
       "1     1000.000000  53054.988281        0.500000      24.000000   \n",
       "2     1100.000000  52930.226562        0.500000      15.000000   \n",
       "3      660.416687  30632.578125        0.250000      12.000000   \n",
       "4        0.000000  21158.214844        0.000000       0.000000   \n",
       "...           ...           ...             ...            ...   \n",
       "1388   400.000000  20729.542969        0.200000       9.600000   \n",
       "1389   949.714294  15572.803711        0.285714      18.714285   \n",
       "1390   608.000000  20948.089844        0.200000       2.000000   \n",
       "1391   821.777771  35472.132812        0.333333      12.000000   \n",
       "1392  1104.166626  25981.351562        0.250000      22.000000   \n",
       "\n",
       "      S_consumptionpc  S_cashtransfers  \n",
       "0          704.000000              0.0  \n",
       "1          934.250000              0.0  \n",
       "2          934.140015              0.0  \n",
       "3          324.750000              0.0  \n",
       "4          259.799988              0.0  \n",
       "...               ...              ...  \n",
       "1388       643.099976              0.0  \n",
       "1389       494.519989              0.0  \n",
       "1390       539.599976             64.0  \n",
       "1391       770.433350              0.0  \n",
       "1392       666.250000              0.0  \n",
       "\n",
       "[1388 rows x 6 columns]"
      ]
     },
     "execution_count": 6,
     "metadata": {},
     "output_type": "execute_result"
    }
   ],
   "source": [
    "durango = durango.dropna(subset=['S_instcement', 'S_incomepc','S_assetspc','S_shpeoplework','S_hrsworkedpc',\n",
    "                        'S_consumptionpc','S_cashtransfers'])\n",
    "\n",
    "durango[propensity_variables]"
   ]
  },
  {
   "cell_type": "code",
   "execution_count": 7,
   "metadata": {},
   "outputs": [
    {
     "data": {
      "text/plain": [
       "array([0., 1.])"
      ]
     },
     "execution_count": 7,
     "metadata": {},
     "output_type": "execute_result"
    }
   ],
   "source": [
    "durango.S_instcement.unique()"
   ]
  },
  {
   "cell_type": "code",
   "execution_count": 8,
   "metadata": {
    "scrolled": true
   },
   "outputs": [
    {
     "data": {
      "text/html": [
       "<div>\n",
       "<style scoped>\n",
       "    .dataframe tbody tr th:only-of-type {\n",
       "        vertical-align: middle;\n",
       "    }\n",
       "\n",
       "    .dataframe tbody tr th {\n",
       "        vertical-align: top;\n",
       "    }\n",
       "\n",
       "    .dataframe thead th {\n",
       "        text-align: right;\n",
       "    }\n",
       "</style>\n",
       "<table border=\"1\" class=\"dataframe\">\n",
       "  <thead>\n",
       "    <tr style=\"text-align: right;\">\n",
       "      <th></th>\n",
       "      <th>S_incomepc</th>\n",
       "      <th>S_assetspc</th>\n",
       "      <th>S_shpeoplework</th>\n",
       "      <th>S_hrsworkedpc</th>\n",
       "      <th>S_consumptionpc</th>\n",
       "      <th>S_cashtransfers</th>\n",
       "    </tr>\n",
       "  </thead>\n",
       "  <tbody>\n",
       "    <tr>\n",
       "      <th>0</th>\n",
       "      <td>0.026686</td>\n",
       "      <td>1.783805</td>\n",
       "      <td>0.572386</td>\n",
       "      <td>0.294665</td>\n",
       "      <td>-0.040731</td>\n",
       "      <td>-0.349656</td>\n",
       "    </tr>\n",
       "    <tr>\n",
       "      <th>1</th>\n",
       "      <td>-0.001264</td>\n",
       "      <td>4.238541</td>\n",
       "      <td>1.882376</td>\n",
       "      <td>1.139142</td>\n",
       "      <td>0.147881</td>\n",
       "      <td>-0.349656</td>\n",
       "    </tr>\n",
       "    <tr>\n",
       "      <th>2</th>\n",
       "      <td>0.024536</td>\n",
       "      <td>4.221496</td>\n",
       "      <td>1.882376</td>\n",
       "      <td>0.102739</td>\n",
       "      <td>0.147791</td>\n",
       "      <td>-0.349656</td>\n",
       "    </tr>\n",
       "    <tr>\n",
       "      <th>3</th>\n",
       "      <td>-0.088875</td>\n",
       "      <td>1.175139</td>\n",
       "      <td>-0.082609</td>\n",
       "      <td>-0.242729</td>\n",
       "      <td>-0.351397</td>\n",
       "      <td>-0.349656</td>\n",
       "    </tr>\n",
       "    <tr>\n",
       "      <th>4</th>\n",
       "      <td>-0.259259</td>\n",
       "      <td>-0.119271</td>\n",
       "      <td>-2.047593</td>\n",
       "      <td>-1.624600</td>\n",
       "      <td>-0.404601</td>\n",
       "      <td>-0.349656</td>\n",
       "    </tr>\n",
       "  </tbody>\n",
       "</table>\n",
       "</div>"
      ],
      "text/plain": [
       "   S_incomepc  S_assetspc  S_shpeoplework  S_hrsworkedpc  S_consumptionpc  \\\n",
       "0    0.026686    1.783805        0.572386       0.294665        -0.040731   \n",
       "1   -0.001264    4.238541        1.882376       1.139142         0.147881   \n",
       "2    0.024536    4.221496        1.882376       0.102739         0.147791   \n",
       "3   -0.088875    1.175139       -0.082609      -0.242729        -0.351397   \n",
       "4   -0.259259   -0.119271       -2.047593      -1.624600        -0.404601   \n",
       "\n",
       "   S_cashtransfers  \n",
       "0        -0.349656  \n",
       "1        -0.349656  \n",
       "2        -0.349656  \n",
       "3        -0.349656  \n",
       "4        -0.349656  "
      ]
     },
     "execution_count": 8,
     "metadata": {},
     "output_type": "execute_result"
    }
   ],
   "source": [
    "# Standardize variables used for propensity scores\n",
    "\n",
    "for v in propensity_variables:\n",
    "    durango[v] = (durango[v] - durango[v].mean())/durango[v].std()\n",
    "    \n",
    "durango[propensity_variables].head()"
   ]
  },
  {
   "cell_type": "code",
   "execution_count": 9,
   "metadata": {},
   "outputs": [
    {
     "name": "stdout",
     "output_type": "stream",
     "text": [
      "Optimization terminated successfully.\n",
      "         Current function value: 0.681915\n",
      "         Iterations 8\n",
      "                           Logit Regression Results                           \n",
      "==============================================================================\n",
      "Dep. Variable:           S_instcement   No. Observations:                 1388\n",
      "Model:                          Logit   Df Residuals:                     1381\n",
      "Method:                           MLE   Df Model:                            6\n",
      "Date:                Thu, 10 Dec 2020   Pseudo R-squ.:                 0.01360\n",
      "Time:                        20:44:46   Log-Likelihood:                -946.50\n",
      "converged:                       True   LL-Null:                       -959.54\n",
      "Covariance Type:            nonrobust   LLR p-value:                 0.0002139\n",
      "===================================================================================\n",
      "                      coef    std err          z      P>|z|      [0.025      0.975]\n",
      "-----------------------------------------------------------------------------------\n",
      "Intercept           0.1296      0.055      2.364      0.018       0.022       0.237\n",
      "S_incomepc          0.1715      0.204      0.843      0.399      -0.227       0.570\n",
      "S_assetspc         -0.1715      0.056     -3.063      0.002      -0.281      -0.062\n",
      "S_shpeoplework      0.0171      0.078      0.219      0.826      -0.136       0.170\n",
      "S_hrsworkedpc       0.1686      0.080      2.118      0.034       0.013       0.325\n",
      "S_consumptionpc     0.1464      0.098      1.498      0.134      -0.045       0.338\n",
      "S_cashtransfers     0.0694      0.056      1.251      0.211      -0.039       0.178\n",
      "===================================================================================\n"
     ]
    }
   ],
   "source": [
    "# Build the model\n",
    "\n",
    "mod = smf.logit(formula='S_instcement ~  S_incomepc + S_assetspc + S_shpeoplework + S_hrsworkedpc \\\n",
    "                + S_consumptionpc + S_cashtransfers', data=durango)\n",
    "\n",
    "res = mod.fit()\n",
    "\n",
    "print(res.summary())"
   ]
  },
  {
   "cell_type": "code",
   "execution_count": 10,
   "metadata": {},
   "outputs": [],
   "source": [
    "# Compute the propensity scores\n",
    "\n",
    "durango['propensity_score'] = res.predict()"
   ]
  },
  {
   "cell_type": "code",
   "execution_count": 43,
   "metadata": {},
   "outputs": [],
   "source": [
    "# Define control and treatment groups\n",
    "treatment = durango[durango.S_instcement == 1]\n",
    "control = durango[durango.S_instcement == 0]"
   ]
  },
  {
   "cell_type": "code",
   "execution_count": 12,
   "metadata": {},
   "outputs": [],
   "source": [
    "# Function to compute similarity from two propensity scores\n",
    "def get_similarity(ps1, ps2):\n",
    "    return 1-np.abs(ps1 - ps2)"
   ]
  },
  {
   "cell_type": "code",
   "execution_count": 13,
   "metadata": {},
   "outputs": [],
   "source": [
    "# Matching step using our computed propensity scores\n",
    "\n",
    "# Create an undirected graph\n",
    "G = nx.Graph()\n",
    "\n",
    "# Loop through all the pairs of instances\n",
    "for treatment_id, treatment_row in treatment.iterrows():\n",
    "    for control_id, control_row in control.iterrows():\n",
    "        \n",
    "        # Calculate the similarity \n",
    "        similarity = get_similarity(control_row['propensity_score'],\n",
    "                                     treatment_row['propensity_score'])\n",
    "        \n",
    "        # take epsilon = 0.05 as a threshold for matching\n",
    "        if similarity > 0.95:\n",
    "            G.add_weighted_edges_from([(control_id, treatment_id, similarity)])\n",
    "\n",
    "# Generate and return the maximum weight matching on the generated graph\n",
    "matching = nx.max_weight_matching(G)"
   ]
  },
  {
   "cell_type": "code",
   "execution_count": 14,
   "metadata": {},
   "outputs": [
    {
     "name": "stdout",
     "output_type": "stream",
     "text": [
      "The number of matched pairs is 650, and the number of unmatched ones is 86.\n"
     ]
    }
   ],
   "source": [
    "# put the balanced pairs of papers into one dataframe\n",
    "match_0 = durango.loc[pd.DataFrame(matching)[0]]\n",
    "match_1 = durango.loc[pd.DataFrame(matching)[1]]\n",
    "durango_match = pd.concat([match_0,match_1])\n",
    "\n",
    "# report the number of pairs\n",
    "print(\"The number of matched pairs is {}, and the number of unmatched ones is {}.\".format(len(match_0),\\\n",
    "                                                                                     len(treatment)-len(match_0)))"
   ]
  },
  {
   "cell_type": "code",
   "execution_count": 74,
   "metadata": {},
   "outputs": [
    {
     "data": {
      "text/plain": [
       "1300"
      ]
     },
     "execution_count": 74,
     "metadata": {},
     "output_type": "execute_result"
    }
   ],
   "source": [
    "durango_fillna = durango_match.fillna(0,inplace=False)\n",
    "durango_process = durango_fillna.drop(index = durango_fillna.loc[durango_fillna['idcluster'] == 0].index)\n",
    "len(durango_process)"
   ]
  },
  {
   "cell_type": "code",
   "execution_count": 75,
   "metadata": {},
   "outputs": [],
   "source": [
    "durango_match = durango_process"
   ]
  },
  {
   "cell_type": "markdown",
   "metadata": {},
   "source": [
    "## Regression\n",
    "\n",
    "### 1. Model specification"
   ]
  },
  {
   "cell_type": "code",
   "execution_count": 84,
   "metadata": {},
   "outputs": [
    {
     "data": {
      "text/html": [
       "<div>\n",
       "<style scoped>\n",
       "    .dataframe tbody tr th:only-of-type {\n",
       "        vertical-align: middle;\n",
       "    }\n",
       "\n",
       "    .dataframe tbody tr th {\n",
       "        vertical-align: top;\n",
       "    }\n",
       "\n",
       "    .dataframe thead th {\n",
       "        text-align: right;\n",
       "    }\n",
       "</style>\n",
       "<table border=\"1\" class=\"dataframe\">\n",
       "  <thead>\n",
       "    <tr style=\"text-align: right;\">\n",
       "      <th></th>\n",
       "      <th>idcluster</th>\n",
       "      <th>S_satisfloor</th>\n",
       "      <th>S_satishouse</th>\n",
       "      <th>S_satislife</th>\n",
       "      <th>S_cesds</th>\n",
       "      <th>S_pss</th>\n",
       "    </tr>\n",
       "  </thead>\n",
       "  <tbody>\n",
       "    <tr>\n",
       "      <th>1003</th>\n",
       "      <td>71470000.0</td>\n",
       "      <td>0.0</td>\n",
       "      <td>0.0</td>\n",
       "      <td>0.0</td>\n",
       "      <td>15.0</td>\n",
       "      <td>12.0</td>\n",
       "    </tr>\n",
       "    <tr>\n",
       "      <th>644</th>\n",
       "      <td>70001446.0</td>\n",
       "      <td>1.0</td>\n",
       "      <td>1.0</td>\n",
       "      <td>1.0</td>\n",
       "      <td>24.0</td>\n",
       "      <td>19.0</td>\n",
       "    </tr>\n",
       "    <tr>\n",
       "      <th>805</th>\n",
       "      <td>70001624.0</td>\n",
       "      <td>0.0</td>\n",
       "      <td>1.0</td>\n",
       "      <td>1.0</td>\n",
       "      <td>21.0</td>\n",
       "      <td>15.0</td>\n",
       "    </tr>\n",
       "    <tr>\n",
       "      <th>976</th>\n",
       "      <td>70001893.0</td>\n",
       "      <td>1.0</td>\n",
       "      <td>1.0</td>\n",
       "      <td>1.0</td>\n",
       "      <td>14.0</td>\n",
       "      <td>11.0</td>\n",
       "    </tr>\n",
       "    <tr>\n",
       "      <th>522</th>\n",
       "      <td>70001408.0</td>\n",
       "      <td>1.0</td>\n",
       "      <td>1.0</td>\n",
       "      <td>1.0</td>\n",
       "      <td>3.0</td>\n",
       "      <td>16.0</td>\n",
       "    </tr>\n",
       "    <tr>\n",
       "      <th>...</th>\n",
       "      <td>...</td>\n",
       "      <td>...</td>\n",
       "      <td>...</td>\n",
       "      <td>...</td>\n",
       "      <td>...</td>\n",
       "      <td>...</td>\n",
       "    </tr>\n",
       "    <tr>\n",
       "      <th>655</th>\n",
       "      <td>70001446.0</td>\n",
       "      <td>1.0</td>\n",
       "      <td>0.0</td>\n",
       "      <td>0.0</td>\n",
       "      <td>19.0</td>\n",
       "      <td>19.0</td>\n",
       "    </tr>\n",
       "    <tr>\n",
       "      <th>469</th>\n",
       "      <td>70001323.0</td>\n",
       "      <td>0.0</td>\n",
       "      <td>0.0</td>\n",
       "      <td>1.0</td>\n",
       "      <td>15.0</td>\n",
       "      <td>13.0</td>\n",
       "    </tr>\n",
       "    <tr>\n",
       "      <th>973</th>\n",
       "      <td>70001889.0</td>\n",
       "      <td>1.0</td>\n",
       "      <td>0.0</td>\n",
       "      <td>1.0</td>\n",
       "      <td>29.0</td>\n",
       "      <td>9.0</td>\n",
       "    </tr>\n",
       "    <tr>\n",
       "      <th>809</th>\n",
       "      <td>70001624.0</td>\n",
       "      <td>0.0</td>\n",
       "      <td>1.0</td>\n",
       "      <td>1.0</td>\n",
       "      <td>6.0</td>\n",
       "      <td>2.0</td>\n",
       "    </tr>\n",
       "    <tr>\n",
       "      <th>78</th>\n",
       "      <td>70000838.0</td>\n",
       "      <td>1.0</td>\n",
       "      <td>1.0</td>\n",
       "      <td>1.0</td>\n",
       "      <td>24.0</td>\n",
       "      <td>20.0</td>\n",
       "    </tr>\n",
       "  </tbody>\n",
       "</table>\n",
       "<p>1300 rows × 6 columns</p>\n",
       "</div>"
      ],
      "text/plain": [
       "       idcluster  S_satisfloor  S_satishouse  S_satislife  S_cesds  S_pss\n",
       "1003  71470000.0           0.0           0.0          0.0     15.0   12.0\n",
       "644   70001446.0           1.0           1.0          1.0     24.0   19.0\n",
       "805   70001624.0           0.0           1.0          1.0     21.0   15.0\n",
       "976   70001893.0           1.0           1.0          1.0     14.0   11.0\n",
       "522   70001408.0           1.0           1.0          1.0      3.0   16.0\n",
       "...          ...           ...           ...          ...      ...    ...\n",
       "655   70001446.0           1.0           0.0          0.0     19.0   19.0\n",
       "469   70001323.0           0.0           0.0          1.0     15.0   13.0\n",
       "973   70001889.0           1.0           0.0          1.0     29.0    9.0\n",
       "809   70001624.0           0.0           1.0          1.0      6.0    2.0\n",
       "78    70000838.0           1.0           1.0          1.0     24.0   20.0\n",
       "\n",
       "[1300 rows x 6 columns]"
      ]
     },
     "execution_count": 84,
     "metadata": {},
     "output_type": "execute_result"
    }
   ],
   "source": [
    "# define the dependent outcome variable dataframe\n",
    "HH_satis = durango_match[['idcluster','S_satisfloor','S_satishouse','S_satislife','S_cesds','S_pss']]\n",
    "HH_satis"
   ]
  },
  {
   "cell_type": "code",
   "execution_count": 77,
   "metadata": {},
   "outputs": [],
   "source": [
    "# Declare the model 1\n",
    "def regression_1(dependent):\n",
    "    mod = smf.ols(formula='dependent ~ C(S_instcement)', data=durango_match)\n",
    "    res = mod.fit(cov_type='cluster',cov_kwds={'groups':durango_match['idcluster']})\n",
    "    return res.params[1],res.bse[1],res.pvalues[1]"
   ]
  },
  {
   "cell_type": "code",
   "execution_count": 78,
   "metadata": {},
   "outputs": [],
   "source": [
    "# Declare the model 2\n",
    "def regression_2(dependent):\n",
    "    mod = smf.ols(formula='dependent ~ C(S_instcement) + S_HHpeople + S_headage + \\\n",
    "          S_spouseage + S_headeduc + S_spouseeduc + S_dem1 + S_dem2 + S_dem3 + S_dem4 + \\\n",
    "          S_dem5 + S_dem6 + S_dem7 + S_dem8 + C(S_waterland) + C(S_waterhouse) + C(S_electricity) + \\\n",
    "          C(S_hasanimals) + C(S_animalsinside) + C(S_garbage) + S_washhands', data=durango_match)\n",
    "    res = mod.fit(cov_type='cluster',cov_kwds={'groups':durango_match['idcluster']})  \n",
    "    return res.params[1],res.bse[1],res.pvalues[1]"
   ]
  },
  {
   "cell_type": "code",
   "execution_count": 79,
   "metadata": {},
   "outputs": [],
   "source": [
    "# Declare the model 3\n",
    "def regression_3(dependent):\n",
    "    mod = smf.ols(formula='dependent ~ C(S_instcement) + S_HHpeople + S_headage + \\\n",
    "          S_spouseage + S_headeduc + S_spouseeduc + S_dem1 + S_dem2 + S_dem3 + S_dem4 + \\\n",
    "          S_dem5 + S_dem6 + S_dem7 + S_dem8 + C(S_waterland) + C(S_waterhouse) + C(S_electricity) + \\\n",
    "          C(S_hasanimals) + C(S_animalsinside) + C(S_garbage) + S_washhands + S_cashtransfers + \\\n",
    "          C(S_milkprogram) + C(S_foodprogram) + C(S_seguropopular)', data=durango_match)\n",
    "    res = mod.fit(cov_type='cluster',cov_kwds={'groups':durango_match['idcluster']})  \n",
    "    return res.params[1],res.bse[1],res.pvalues[1]"
   ]
  },
  {
   "cell_type": "markdown",
   "metadata": {},
   "source": [
    "### 2. Control mean and deviation"
   ]
  },
  {
   "cell_type": "code",
   "execution_count": 57,
   "metadata": {},
   "outputs": [],
   "source": [
    "index = ['Satisfaction with floor quality','Satisfaction with house quality','Satisfaction with quality of life',\\\n",
    "         'Depression scale (CES-D scale)','Perceived stress scale (PSS)']\n",
    "columns = ['control mean','control std','Model 1:coef','Model 1:std','Model 1:sig','Model 1:effect',\\\n",
    "           'Model 2:coef','Model 2:std','Model 2:sig','Model 2:effect','Model 3:coef',\\\n",
    "          'Model 3:std','Model 3:sig','Model 3:effect']\n",
    "table = pd.DataFrame(index = index, columns = columns)"
   ]
  },
  {
   "cell_type": "code",
   "execution_count": 58,
   "metadata": {},
   "outputs": [],
   "source": [
    "# divide the data set into treatment and control groups\n",
    "treated = durango_match.loc[durango_match['S_instcement'] == 1]\n",
    "controlled = durango_match.loc[durango_match['S_instcement'] == 0]\n",
    "\n",
    "# calculate and store the mean of the outcome variables for the control group\n",
    "HH_satis_control = controlled[['S_satisfloor','S_satishouse','S_satislife','S_cesds','S_pss']]\n",
    "table['control mean'] = np.array(HH_satis_control.mean())\n",
    "\n",
    "# calculate and store the deviation of the outcome variables for the control group\n",
    "table['control std'] = np.array(HH_satis_control.std())"
   ]
  },
  {
   "cell_type": "code",
   "execution_count": 59,
   "metadata": {},
   "outputs": [],
   "source": [
    "def report_result(index, data):\n",
    "    for i in range(5):\n",
    "        print('{:40} {:.3f}'.format(index[i],data[i]))"
   ]
  },
  {
   "cell_type": "code",
   "execution_count": 60,
   "metadata": {},
   "outputs": [
    {
     "name": "stdout",
     "output_type": "stream",
     "text": [
      "-------------------Control mean-------------------\n",
      "Satisfaction with floor quality          0.477\n",
      "Satisfaction with house quality          0.595\n",
      "Satisfaction with quality of life        0.577\n",
      "Depression scale (CES-D scale)           18.631\n",
      "Perceived stress scale (PSS)             16.294\n",
      " \n",
      "----------------Control deviation-----------------\n",
      "Satisfaction with floor quality          0.500\n",
      "Satisfaction with house quality          0.491\n",
      "Satisfaction with quality of life        0.494\n",
      "Depression scale (CES-D scale)           9.502\n",
      "Perceived stress scale (PSS)             7.195\n"
     ]
    }
   ],
   "source": [
    "# report the mean of control group\n",
    "print('{:-^50}'.format('Control mean'))\n",
    "report_result(index, table['control mean'])\n",
    "\n",
    "# report the deviation of control group\n",
    "print(' ')\n",
    "print('{:-^50}'.format('Control deviation'))\n",
    "report_result(index, table['control std'])"
   ]
  },
  {
   "cell_type": "markdown",
   "metadata": {},
   "source": [
    "### 3. Estimated coefficient, clustered standard error and p-value"
   ]
  },
  {
   "cell_type": "code",
   "execution_count": 85,
   "metadata": {},
   "outputs": [
    {
     "name": "stdout",
     "output_type": "stream",
     "text": [
      "------The estimated coefficients of model 1-------\n",
      "Satisfaction with floor quality          0.075\n",
      "Satisfaction with house quality          0.022\n",
      "Satisfaction with quality of life        0.055\n",
      "Depression scale (CES-D scale)           -0.529\n",
      "Perceived stress scale (PSS)             0.166\n",
      " \n",
      "-----The clustered standard errors of model 2-----\n",
      "Satisfaction with floor quality          0.030\n",
      "Satisfaction with house quality          0.028\n",
      "Satisfaction with quality of life        0.029\n",
      "Depression scale (CES-D scale)           0.894\n",
      "Perceived stress scale (PSS)             0.821\n",
      " \n",
      "-------------The p-values of model 3--------------\n",
      "Satisfaction with floor quality          0.019\n",
      "Satisfaction with house quality          0.599\n",
      "Satisfaction with quality of life        0.186\n",
      "Depression scale (CES-D scale)           0.900\n",
      "Perceived stress scale (PSS)             0.684\n"
     ]
    }
   ],
   "source": [
    "# obtain the coefficient, clustered standard error and p-value of each model\n",
    "for i in range(5):\n",
    "    table['Model 1:coef'][i],table['Model 1:std'][i], table['Model 1:sig'][i] = regression_1(HH_satis.iloc[:,i+1])\n",
    "    table['Model 2:coef'][i],table['Model 2:std'][i], table['Model 2:sig'][i] = regression_2(HH_satis.iloc[:,i+1])\n",
    "    table['Model 3:coef'][i],table['Model 3:std'][i], table['Model 3:sig'][i] = regression_3(HH_satis.iloc[:,i+1])\n",
    "    \n",
    "# report some results to see whether we get it right\n",
    "# report the estimated coefficients of model 1\n",
    "print('{:-^50}'.format('The estimated coefficients of model 1'))\n",
    "report_result(index, table['Model 1:coef'])\n",
    "\n",
    "# report the clustered standard errors of model 2\n",
    "print(' ')\n",
    "print('{:-^50}'.format('The clustered standard errors of model 2'))\n",
    "report_result(index, table['Model 2:std'])\n",
    "\n",
    "# report the p-values of model 3\n",
    "print(' ')\n",
    "print('{:-^50}'.format('The p-values of model 3'))\n",
    "report_result(index, table['Model 3:sig'])"
   ]
  },
  {
   "cell_type": "markdown",
   "metadata": {},
   "source": [
    "### 4. Classification of significance level"
   ]
  },
  {
   "cell_type": "markdown",
   "metadata": {},
   "source": [
    "There are three classifications of significance level in our case.\n",
    "- p-value<0.01: Significantly different from 0 at 1 percent level.\n",
    "- p-value<0.05: Significantly different from 0 at 5 percent level.\n",
    "- p-value<0.10: Significantly different from 0 at 10 percent level."
   ]
  },
  {
   "cell_type": "code",
   "execution_count": 81,
   "metadata": {},
   "outputs": [],
   "source": [
    "# define a function which returns the significance level of the results for each model\n",
    "def significance_level(x):\n",
    "    p = x\n",
    "    for i in range(5):\n",
    "        if p[i] < 0.01:\n",
    "            p[i] = 0.01\n",
    "        elif p[i] < 0.05:\n",
    "             p[i] = 0.05\n",
    "        elif p[i] < 0.1:\n",
    "             p[i] = 0.1\n",
    "    return p"
   ]
  },
  {
   "cell_type": "code",
   "execution_count": 86,
   "metadata": {},
   "outputs": [],
   "source": [
    "table['Model 1:sig'] = significance_level(table['Model 1:sig'])\n",
    "table['Model 2:sig'] = significance_level(table['Model 2:sig'])\n",
    "table['Model 3:sig'] = significance_level(table['Model 3:sig'])"
   ]
  },
  {
   "cell_type": "code",
   "execution_count": 87,
   "metadata": {},
   "outputs": [
    {
     "name": "stdout",
     "output_type": "stream",
     "text": [
      "--------The significance level of model 1---------\n",
      "Satisfaction with floor quality          0.010\n",
      "Satisfaction with house quality          0.450\n",
      "Satisfaction with quality of life        0.050\n",
      "Depression scale (CES-D scale)           0.578\n",
      "Perceived stress scale (PSS)             0.841\n"
     ]
    }
   ],
   "source": [
    "# report the siginificance level of model 1\n",
    "print('{:-^50}'.format('The significance level of model 1'))\n",
    "report_result(index, table['Model 1:sig'])"
   ]
  },
  {
   "cell_type": "markdown",
   "metadata": {},
   "source": [
    "### 5. The average program effect"
   ]
  },
  {
   "cell_type": "code",
   "execution_count": 88,
   "metadata": {},
   "outputs": [
    {
     "name": "stdout",
     "output_type": "stream",
     "text": [
      "------The average program effect of model 1-------\n",
      "Satisfaction with floor quality          15.806\n",
      "Satisfaction with house quality          3.618\n",
      "Satisfaction with quality of life        9.600\n",
      "Depression scale (CES-D scale)           -2.841\n",
      "Perceived stress scale (PSS)             1.020\n"
     ]
    }
   ],
   "source": [
    "# calculate the average program effect: 100*coefficient/control mean\n",
    "for i in range(5):\n",
    "    table['Model 1:effect'][i] = 100 * table['Model 1:coef'][i]/table['control mean'][i]\n",
    "    table['Model 2:effect'][i] = 100 * table['Model 2:coef'][i]/table['control mean'][i]\n",
    "    table['Model 3:effect'][i] = 100 * table['Model 3:coef'][i]/table['control mean'][i]\n",
    "\n",
    "# report the program effect of model 3\n",
    "print('{:-^50}'.format('The average program effect of model 1'))\n",
    "report_result(index, table['Model 1:effect'])"
   ]
  },
  {
   "cell_type": "code",
   "execution_count": 89,
   "metadata": {},
   "outputs": [
    {
     "data": {
      "text/html": [
       "<div>\n",
       "<style scoped>\n",
       "    .dataframe tbody tr th:only-of-type {\n",
       "        vertical-align: middle;\n",
       "    }\n",
       "\n",
       "    .dataframe tbody tr th {\n",
       "        vertical-align: top;\n",
       "    }\n",
       "\n",
       "    .dataframe thead th {\n",
       "        text-align: right;\n",
       "    }\n",
       "</style>\n",
       "<table border=\"1\" class=\"dataframe\">\n",
       "  <thead>\n",
       "    <tr style=\"text-align: right;\">\n",
       "      <th></th>\n",
       "      <th>control mean</th>\n",
       "      <th>control std</th>\n",
       "      <th>Model 1:coef</th>\n",
       "      <th>Model 1:std</th>\n",
       "      <th>Model 1:sig</th>\n",
       "      <th>Model 1:effect</th>\n",
       "      <th>Model 2:coef</th>\n",
       "      <th>Model 2:std</th>\n",
       "      <th>Model 2:sig</th>\n",
       "      <th>Model 2:effect</th>\n",
       "      <th>Model 3:coef</th>\n",
       "      <th>Model 3:std</th>\n",
       "      <th>Model 3:sig</th>\n",
       "      <th>Model 3:effect</th>\n",
       "    </tr>\n",
       "  </thead>\n",
       "  <tbody>\n",
       "    <tr>\n",
       "      <th>Satisfaction with floor quality</th>\n",
       "      <td>0.476923</td>\n",
       "      <td>0.499852</td>\n",
       "      <td>0.0753846</td>\n",
       "      <td>0.0282191</td>\n",
       "      <td>0.01</td>\n",
       "      <td>15.8065</td>\n",
       "      <td>0.0703101</td>\n",
       "      <td>0.0295649</td>\n",
       "      <td>0.05</td>\n",
       "      <td>14.7424</td>\n",
       "      <td>0.0679274</td>\n",
       "      <td>0.029031</td>\n",
       "      <td>0.05</td>\n",
       "      <td>14.2428</td>\n",
       "    </tr>\n",
       "    <tr>\n",
       "      <th>Satisfaction with house quality</th>\n",
       "      <td>0.595385</td>\n",
       "      <td>0.491195</td>\n",
       "      <td>0.0215385</td>\n",
       "      <td>0.0284808</td>\n",
       "      <td>0.449503</td>\n",
       "      <td>3.61757</td>\n",
       "      <td>0.0175852</td>\n",
       "      <td>0.0279372</td>\n",
       "      <td>0.529051</td>\n",
       "      <td>2.95359</td>\n",
       "      <td>0.0146324</td>\n",
       "      <td>0.0278057</td>\n",
       "      <td>0.598723</td>\n",
       "      <td>2.45764</td>\n",
       "    </tr>\n",
       "    <tr>\n",
       "      <th>Satisfaction with quality of life</th>\n",
       "      <td>0.576923</td>\n",
       "      <td>0.494428</td>\n",
       "      <td>0.0553846</td>\n",
       "      <td>0.0279172</td>\n",
       "      <td>0.05</td>\n",
       "      <td>9.6</td>\n",
       "      <td>0.0384626</td>\n",
       "      <td>0.0293955</td>\n",
       "      <td>0.190721</td>\n",
       "      <td>6.66684</td>\n",
       "      <td>0.0376022</td>\n",
       "      <td>0.0284262</td>\n",
       "      <td>0.185901</td>\n",
       "      <td>6.51772</td>\n",
       "    </tr>\n",
       "    <tr>\n",
       "      <th>Depression scale (CES-D scale)</th>\n",
       "      <td>18.631172</td>\n",
       "      <td>9.502204</td>\n",
       "      <td>-0.529231</td>\n",
       "      <td>0.952038</td>\n",
       "      <td>0.578284</td>\n",
       "      <td>-2.84057</td>\n",
       "      <td>-0.164639</td>\n",
       "      <td>0.893908</td>\n",
       "      <td>0.853873</td>\n",
       "      <td>-0.883674</td>\n",
       "      <td>-0.113436</td>\n",
       "      <td>0.899615</td>\n",
       "      <td>0.899658</td>\n",
       "      <td>-0.608848</td>\n",
       "    </tr>\n",
       "    <tr>\n",
       "      <th>Perceived stress scale (PSS)</th>\n",
       "      <td>16.294117</td>\n",
       "      <td>7.194972</td>\n",
       "      <td>0.166154</td>\n",
       "      <td>0.830499</td>\n",
       "      <td>0.84143</td>\n",
       "      <td>1.01972</td>\n",
       "      <td>0.339565</td>\n",
       "      <td>0.820991</td>\n",
       "      <td>0.679165</td>\n",
       "      <td>2.08397</td>\n",
       "      <td>0.328441</td>\n",
       "      <td>0.80817</td>\n",
       "      <td>0.684448</td>\n",
       "      <td>2.0157</td>\n",
       "    </tr>\n",
       "  </tbody>\n",
       "</table>\n",
       "</div>"
      ],
      "text/plain": [
       "                                   control mean  control std Model 1:coef  \\\n",
       "Satisfaction with floor quality        0.476923     0.499852    0.0753846   \n",
       "Satisfaction with house quality        0.595385     0.491195    0.0215385   \n",
       "Satisfaction with quality of life      0.576923     0.494428    0.0553846   \n",
       "Depression scale (CES-D scale)        18.631172     9.502204    -0.529231   \n",
       "Perceived stress scale (PSS)          16.294117     7.194972     0.166154   \n",
       "\n",
       "                                  Model 1:std Model 1:sig Model 1:effect  \\\n",
       "Satisfaction with floor quality     0.0282191        0.01        15.8065   \n",
       "Satisfaction with house quality     0.0284808    0.449503        3.61757   \n",
       "Satisfaction with quality of life   0.0279172        0.05            9.6   \n",
       "Depression scale (CES-D scale)       0.952038    0.578284       -2.84057   \n",
       "Perceived stress scale (PSS)         0.830499     0.84143        1.01972   \n",
       "\n",
       "                                  Model 2:coef Model 2:std Model 2:sig  \\\n",
       "Satisfaction with floor quality      0.0703101   0.0295649        0.05   \n",
       "Satisfaction with house quality      0.0175852   0.0279372    0.529051   \n",
       "Satisfaction with quality of life    0.0384626   0.0293955    0.190721   \n",
       "Depression scale (CES-D scale)       -0.164639    0.893908    0.853873   \n",
       "Perceived stress scale (PSS)          0.339565    0.820991    0.679165   \n",
       "\n",
       "                                  Model 2:effect Model 3:coef Model 3:std  \\\n",
       "Satisfaction with floor quality          14.7424    0.0679274    0.029031   \n",
       "Satisfaction with house quality          2.95359    0.0146324   0.0278057   \n",
       "Satisfaction with quality of life        6.66684    0.0376022   0.0284262   \n",
       "Depression scale (CES-D scale)         -0.883674    -0.113436    0.899615   \n",
       "Perceived stress scale (PSS)             2.08397     0.328441     0.80817   \n",
       "\n",
       "                                  Model 3:sig Model 3:effect  \n",
       "Satisfaction with floor quality          0.05        14.2428  \n",
       "Satisfaction with house quality      0.598723        2.45764  \n",
       "Satisfaction with quality of life    0.185901        6.51772  \n",
       "Depression scale (CES-D scale)       0.899658      -0.608848  \n",
       "Perceived stress scale (PSS)         0.684448         2.0157  "
      ]
     },
     "execution_count": 89,
     "metadata": {},
     "output_type": "execute_result"
    }
   ],
   "source": [
    "table"
   ]
  },
  {
   "cell_type": "code",
   "execution_count": null,
   "metadata": {},
   "outputs": [],
   "source": []
  },
  {
   "cell_type": "code",
   "execution_count": null,
   "metadata": {},
   "outputs": [],
   "source": []
  },
  {
   "cell_type": "code",
   "execution_count": null,
   "metadata": {},
   "outputs": [],
   "source": []
  },
  {
   "cell_type": "code",
   "execution_count": null,
   "metadata": {},
   "outputs": [],
   "source": []
  },
  {
   "cell_type": "markdown",
   "metadata": {},
   "source": [
    "## Part 2\n"
   ]
  },
  {
   "cell_type": "code",
   "execution_count": null,
   "metadata": {},
   "outputs": [],
   "source": []
  }
 ],
 "metadata": {
  "kernelspec": {
   "display_name": "Python 3",
   "language": "python",
   "name": "python3"
  },
  "language_info": {
   "codemirror_mode": {
    "name": "ipython",
    "version": 3
   },
   "file_extension": ".py",
   "mimetype": "text/x-python",
   "name": "python",
   "nbconvert_exporter": "python",
   "pygments_lexer": "ipython3",
   "version": "3.8.5"
  }
 },
 "nbformat": 4,
 "nbformat_minor": 4
}
